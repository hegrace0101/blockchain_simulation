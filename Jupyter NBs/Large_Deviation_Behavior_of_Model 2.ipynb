{
 "cells": [
  {
   "cell_type": "code",
   "execution_count": 26,
   "id": "38a24e33",
   "metadata": {},
   "outputs": [],
   "source": [
    "# import libraries\n",
    "import matplotlib.pyplot as plt\n",
    "import numpy as np"
   ]
  },
  {
   "cell_type": "markdown",
   "id": "604a6306",
   "metadata": {},
   "source": [
    "### Initialize variables"
   ]
  },
  {
   "cell_type": "code",
   "execution_count": 31,
   "id": "7c3fe6ac",
   "metadata": {},
   "outputs": [],
   "source": [
    "# initial number of coins\n",
    "N_0 = 5\n",
    "N_t = N_0\n",
    "\n",
    "# epsilon, 0.05 or 0.1\n",
    "e = 0.05"
   ]
  },
  {
   "cell_type": "markdown",
   "id": "b641d8ec",
   "metadata": {},
   "source": [
    "### Example of one state change"
   ]
  },
  {
   "cell_type": "code",
   "execution_count": 71,
   "id": "c90b07fd",
   "metadata": {},
   "outputs": [
    {
     "name": "stdout",
     "output_type": "stream",
     "text": [
      "Probability threshold: 0.07\n",
      "Random number: 0.65\n",
      "New N_t: 14\n"
     ]
    }
   ],
   "source": [
    "# example state change\n",
    "\n",
    "# assign probabilities\n",
    "p_change = 1/N_t\n",
    "print('Probability threshold: %.2f' % p_change)\n",
    "\n",
    "# simulate state change\n",
    "p = np.random.rand()\n",
    "if p <= p_change: \n",
    "    N_t += 1\n",
    "print('Random number: %.2f' % p)\n",
    "print('New N_t: %d' % N_t)"
   ]
  },
  {
   "cell_type": "markdown",
   "id": "4bd522a4",
   "metadata": {},
   "source": [
    "# Simulation"
   ]
  },
  {
   "cell_type": "code",
   "execution_count": 77,
   "id": "3f3fafe3",
   "metadata": {},
   "outputs": [],
   "source": [
    "# simulate process to get probability P(N_t^2 > (2+e)*t) and P(N_t^2 < (2-e)*t)\n",
    "\n",
    "''' This function simulates model 2 and returns the probability for large deviation behavior'''\n",
    "def simulate(N_0, t, M=10000, e = 0.1):\n",
    "    '''\n",
    "    Returns a tuple (P(N_t^2 > (2+e)*t), P(N_t^2 < (2-e)*t))\n",
    "    \n",
    "    N_0: initial number of coins\n",
    "    t: large time t \n",
    "    M: number of simulations\n",
    "    e: epsilon deviation\n",
    "    '''\n",
    "    \n",
    "    # initialize variables\n",
    "    N_t = N_0\n",
    "    c_upper = 0 # num of times P(N_t^2 > (2+e)*t)\n",
    "    c_lower = 0 # num of times P(N_t^2 < (2-e)*t)\n",
    "\n",
    "    for m in range(M):\n",
    "        # reset process\n",
    "        N_t = N_0\n",
    "    \n",
    "        # simulate process for time t\n",
    "        for i in range(t):\n",
    "        \n",
    "            # simulate state change\n",
    "            p_change = 1/N_t\n",
    "            p = np.random.rand()\n",
    "            if p <= p_change: \n",
    "                N_t += 1\n",
    "    \n",
    "        # upper deviation\n",
    "        if N_t**2 > t*(2+e):\n",
    "            c_upper += 1\n",
    "        # lower deviation\n",
    "        elif N_t**2 < t*(2-e):\n",
    "            c_lower += 1\n",
    "            \n",
    "    return (c_upper/M, c_lower/M)\n"
   ]
  },
  {
   "cell_type": "code",
   "execution_count": 78,
   "id": "6a93e9aa",
   "metadata": {},
   "outputs": [],
   "source": [
    "# find probability distribution of large deviation behavior\n",
    "\n",
    "# list of times t\n",
    "times = np.arange(100, 1500, 100)\n",
    "upper = np.zeros(times.shape)\n",
    "lower = np.zeros(times.shape)\n",
    "\n",
    "# get simulated probabilities for each t\n",
    "N_0 = 5\n",
    "for i in range(len(times)):\n",
    "    t = times[i]\n",
    "    p = simulate(N_0, t)\n",
    "    upper[i] = p[0]\n",
    "    lower[i] = p[1]\n"
   ]
  },
  {
   "cell_type": "code",
   "execution_count": 82,
   "id": "48b81190",
   "metadata": {},
   "outputs": [
    {
     "data": {
      "image/png": "[encoded data removed]",
      "text/plain": [
       "<Figure size 432x288 with 2 Axes>"
      ]
     },
     "metadata": {
      "needs_background": "light"
     },
     "output_type": "display_data"
    }
   ],
   "source": [
    "# graph results\n",
    "\n",
    "# transform samples\n",
    "ln_upper = np.log(upper)\n",
    "ln_lower = np.log(lower)\n",
    "sqrt_times = np.sqrt(times)\n",
    "log_times = np.log(times)\n",
    "cbrt_times = np.cbrt(times)\n",
    "\n",
    "# making subplots\n",
    "fig, ax = plt.subplots(1, 2)\n",
    "\n",
    "# upper deviation\n",
    "ax[0].plot(times, ln_upper)\n",
    "ax[0].set_title(\"Upper Deviation\")\n",
    "ax[0].set_xlabel('time')\n",
    "ax[0].set_ylabel('ln P')\n",
    "\n",
    "# lower deviation\n",
    "ax[1].plot(sqrt_times, ln_lower)\n",
    "ax[1].set_title(\"Lower Deviation\")\n",
    "ax[1].set_xlabel('sqrt time')\n",
    "ax[1].set_ylabel('ln P')\n",
    "\n",
    "fig.tight_layout()\n",
    "plt.show()"
   ]
  },
  {
   "cell_type": "code",
   "execution_count": null,
   "id": "8a52baee",
   "metadata": {},
   "outputs": [],
   "source": []
  }
 ],
 "metadata": {
  "kernelspec": {
   "display_name": "Python 3 (ipykernel)",
   "language": "python",
   "name": "python3"
  },
  "language_info": {
   "codemirror_mode": {
    "name": "ipython",
    "version": 3
   },
   "file_extension": ".py",
   "mimetype": "text/x-python",
   "name": "python",
   "nbconvert_exporter": "python",
   "pygments_lexer": "ipython3",
   "version": "3.9.7"
  }
 },
 "nbformat": 4,
 "nbformat_minor": 5
}
